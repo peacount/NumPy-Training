{
 "cells": [
  {
   "cell_type": "markdown",
   "metadata": {},
   "source": [
    "## Fancy Indexing  - Example\n"
   ]
  },
  {
   "cell_type": "code",
   "execution_count": 4,
   "metadata": {
    "collapsed": true
   },
   "outputs": [],
   "source": [
    "os.chdir('C:\\\\Users\\\\jenny\\\\venvs\\\\py39\\\\Lib\\\\site-packages')\n",
    "import numpy as np\n",
    "import pandas as pd\n",
    "import matplotlib.pyplot as plt"
   ]
  },
  {
   "cell_type": "markdown",
   "metadata": {},
   "source": [
    "We will load the GDP per capita (in US dollars) data for all the countries in the world for the year 2016 into a variable using pandas."
   ]
  },
  {
   "cell_type": "code",
   "execution_count": 26,
   "metadata": {
    "collapsed": true
   },
   "outputs": [
    {
     "output_type": "error",
     "ename": "AttributeError",
     "evalue": "'numpy.ndarray' object has no attribute 'head'",
     "traceback": [
      "\u001b[1;31m---------------------------------------------------------------------------\u001b[0m",
      "\u001b[1;31mAttributeError\u001b[0m                            Traceback (most recent call last)",
      "\u001b[1;32m<ipython-input-26-49ff2cd5b8c0>\u001b[0m in \u001b[0;36m<module>\u001b[1;34m\u001b[0m\n\u001b[0;32m      1\u001b[0m \u001b[0mgdp_16\u001b[0m \u001b[1;33m=\u001b[0m \u001b[0mpd\u001b[0m\u001b[1;33m.\u001b[0m\u001b[0mread_csv\u001b[0m\u001b[1;33m(\u001b[0m\u001b[1;34m\"C:\\\\Users\\\\jenny\\\\venvs\\\\py39\\\\Working with Multidimensional Data Using NumPy\\\\02\\\\demos\\\\data\\\\gdp_pc.csv\"\u001b[0m\u001b[1;33m)\u001b[0m\u001b[1;33m[\u001b[0m\u001b[1;34m\"2016\"\u001b[0m\u001b[1;33m]\u001b[0m\u001b[1;33m.\u001b[0m\u001b[0mvalues\u001b[0m\u001b[1;33m\u001b[0m\u001b[1;33m\u001b[0m\u001b[0m\n\u001b[1;32m----> 2\u001b[1;33m \u001b[0mgdp_16\u001b[0m\u001b[1;33m.\u001b[0m\u001b[0mhead\u001b[0m\u001b[1;33m(\u001b[0m\u001b[1;33m)\u001b[0m\u001b[1;33m\u001b[0m\u001b[1;33m\u001b[0m\u001b[0m\n\u001b[0m",
      "\u001b[1;31mAttributeError\u001b[0m: 'numpy.ndarray' object has no attribute 'head'"
     ]
    }
   ],
   "source": [
    "gdp_16 = pd.read_csv(\"C:\\\\Users\\\\jenny\\\\venvs\\\\py39\\\\Working with Multidimensional Data Using NumPy\\\\02\\\\demos\\\\data\\\\gdp_pc.csv\")[\"2016\"].values\n",
    "gdp_16.head()"
   ]
  },
  {
   "cell_type": "code",
   "execution_count": 6,
   "metadata": {},
   "outputs": [
    {
     "output_type": "execute_result",
     "data": {
      "text/plain": [
       "numpy.ndarray"
      ]
     },
     "metadata": {},
     "execution_count": 6
    }
   ],
   "source": [
    "type(gdp_16)"
   ]
  },
  {
   "cell_type": "code",
   "execution_count": 7,
   "metadata": {},
   "outputs": [
    {
     "output_type": "execute_result",
     "data": {
      "text/plain": [
       "(264,)"
      ]
     },
     "metadata": {},
     "execution_count": 7
    }
   ],
   "source": [
    "gdp_16.shape"
   ]
  },
  {
   "cell_type": "code",
   "execution_count": 8,
   "metadata": {},
   "outputs": [
    {
     "output_type": "display_data",
     "data": {
      "text/plain": "<Figure size 432x288 with 1 Axes>",
      "image/svg+xml": "<?xml version=\"1.0\" encoding=\"utf-8\" standalone=\"no\"?>\r\n<!DOCTYPE svg PUBLIC \"-//W3C//DTD SVG 1.1//EN\"\r\n  \"http://www.w3.org/Graphics/SVG/1.1/DTD/svg11.dtd\">\r\n<svg height=\"248.518125pt\" version=\"1.1\" viewBox=\"0 0 394.375 248.518125\" width=\"394.375pt\" xmlns=\"http://www.w3.org/2000/svg\" xmlns:xlink=\"http://www.w3.org/1999/xlink\">\r\n <metadata>\r\n  <rdf:RDF xmlns:cc=\"http://creativecommons.org/ns#\" xmlns:dc=\"http://purl.org/dc/elements/1.1/\" xmlns:rdf=\"http://www.w3.org/1999/02/22-rdf-syntax-ns#\">\r\n   <cc:Work>\r\n    <dc:type rdf:resource=\"http://purl.org/dc/dcmitype/StillImage\"/>\r\n    <dc:date>2021-05-02T17:24:53.003660</dc:date>\r\n    <dc:format>image/svg+xml</dc:format>\r\n    <dc:creator>\r\n     <cc:Agent>\r\n      <dc:title>Matplotlib v3.4.1, https://matplotlib.org/</dc:title>\r\n     </cc:Agent>\r\n    </dc:creator>\r\n   </cc:Work>\r\n  </rdf:RDF>\r\n </metadata>\r\n <defs>\r\n  <style type=\"text/css\">*{stroke-linecap:butt;stroke-linejoin:round;}</style>\r\n </defs>\r\n <g id=\"figure_1\">\r\n  <g id=\"patch_1\">\r\n   <path d=\"M 0 248.518125 \r\nL 394.375 248.518125 \r\nL 394.375 0 \r\nL 0 0 \r\nz\r\n\" style=\"fill:none;\"/>\r\n  </g>\r\n  <g id=\"axes_1\">\r\n   <g id=\"patch_2\">\r\n    <path d=\"M 52.375 224.64 \r\nL 387.175 224.64 \r\nL 387.175 7.2 \r\nL 52.375 7.2 \r\nz\r\n\" style=\"fill:#ffffff;\"/>\r\n   </g>\r\n   <g id=\"matplotlib.axis_1\">\r\n    <g id=\"xtick_1\">\r\n     <g id=\"line2d_1\">\r\n      <defs>\r\n       <path d=\"M 0 0 \r\nL 0 3.5 \r\n\" id=\"m8e06bf7b21\" style=\"stroke:#000000;stroke-width:0.8;\"/>\r\n      </defs>\r\n      <g>\r\n       <use style=\"stroke:#000000;stroke-width:0.8;\" x=\"66.431489\" xlink:href=\"#m8e06bf7b21\" y=\"224.64\"/>\r\n      </g>\r\n     </g>\r\n     <g id=\"text_1\">\r\n      <!-- 0 -->\r\n      <g transform=\"translate(63.250239 239.238437)scale(0.1 -0.1)\">\r\n       <defs>\r\n        <path d=\"M 2034 4250 \r\nQ 1547 4250 1301 3770 \r\nQ 1056 3291 1056 2328 \r\nQ 1056 1369 1301 889 \r\nQ 1547 409 2034 409 \r\nQ 2525 409 2770 889 \r\nQ 3016 1369 3016 2328 \r\nQ 3016 3291 2770 3770 \r\nQ 2525 4250 2034 4250 \r\nz\r\nM 2034 4750 \r\nQ 2819 4750 3233 4129 \r\nQ 3647 3509 3647 2328 \r\nQ 3647 1150 3233 529 \r\nQ 2819 -91 2034 -91 \r\nQ 1250 -91 836 529 \r\nQ 422 1150 422 2328 \r\nQ 422 3509 836 4129 \r\nQ 1250 4750 2034 4750 \r\nz\r\n\" id=\"DejaVuSans-30\" transform=\"scale(0.015625)\"/>\r\n       </defs>\r\n       <use xlink:href=\"#DejaVuSans-30\"/>\r\n      </g>\r\n     </g>\r\n    </g>\r\n    <g id=\"xtick_2\">\r\n     <g id=\"line2d_2\">\r\n      <g>\r\n       <use style=\"stroke:#000000;stroke-width:0.8;\" x=\"124.516152\" xlink:href=\"#m8e06bf7b21\" y=\"224.64\"/>\r\n      </g>\r\n     </g>\r\n     <g id=\"text_2\">\r\n      <!-- 50 -->\r\n      <g transform=\"translate(118.153652 239.238437)scale(0.1 -0.1)\">\r\n       <defs>\r\n        <path d=\"M 691 4666 \r\nL 3169 4666 \r\nL 3169 4134 \r\nL 1269 4134 \r\nL 1269 2991 \r\nQ 1406 3038 1543 3061 \r\nQ 1681 3084 1819 3084 \r\nQ 2600 3084 3056 2656 \r\nQ 3513 2228 3513 1497 \r\nQ 3513 744 3044 326 \r\nQ 2575 -91 1722 -91 \r\nQ 1428 -91 1123 -41 \r\nQ 819 9 494 109 \r\nL 494 744 \r\nQ 775 591 1075 516 \r\nQ 1375 441 1709 441 \r\nQ 2250 441 2565 725 \r\nQ 2881 1009 2881 1497 \r\nQ 2881 1984 2565 2268 \r\nQ 2250 2553 1709 2553 \r\nQ 1456 2553 1204 2497 \r\nQ 953 2441 691 2322 \r\nL 691 4666 \r\nz\r\n\" id=\"DejaVuSans-35\" transform=\"scale(0.015625)\"/>\r\n       </defs>\r\n       <use xlink:href=\"#DejaVuSans-35\"/>\r\n       <use x=\"63.623047\" xlink:href=\"#DejaVuSans-30\"/>\r\n      </g>\r\n     </g>\r\n    </g>\r\n    <g id=\"xtick_3\">\r\n     <g id=\"line2d_3\">\r\n      <g>\r\n       <use style=\"stroke:#000000;stroke-width:0.8;\" x=\"182.600815\" xlink:href=\"#m8e06bf7b21\" y=\"224.64\"/>\r\n      </g>\r\n     </g>\r\n     <g id=\"text_3\">\r\n      <!-- 100 -->\r\n      <g transform=\"translate(173.057065 239.238437)scale(0.1 -0.1)\">\r\n       <defs>\r\n        <path d=\"M 794 531 \r\nL 1825 531 \r\nL 1825 4091 \r\nL 703 3866 \r\nL 703 4441 \r\nL 1819 4666 \r\nL 2450 4666 \r\nL 2450 531 \r\nL 3481 531 \r\nL 3481 0 \r\nL 794 0 \r\nL 794 531 \r\nz\r\n\" id=\"DejaVuSans-31\" transform=\"scale(0.015625)\"/>\r\n       </defs>\r\n       <use xlink:href=\"#DejaVuSans-31\"/>\r\n       <use x=\"63.623047\" xlink:href=\"#DejaVuSans-30\"/>\r\n       <use x=\"127.246094\" xlink:href=\"#DejaVuSans-30\"/>\r\n      </g>\r\n     </g>\r\n    </g>\r\n    <g id=\"xtick_4\">\r\n     <g id=\"line2d_4\">\r\n      <g>\r\n       <use style=\"stroke:#000000;stroke-width:0.8;\" x=\"240.685479\" xlink:href=\"#m8e06bf7b21\" y=\"224.64\"/>\r\n      </g>\r\n     </g>\r\n     <g id=\"text_4\">\r\n      <!-- 150 -->\r\n      <g transform=\"translate(231.141729 239.238437)scale(0.1 -0.1)\">\r\n       <use xlink:href=\"#DejaVuSans-31\"/>\r\n       <use x=\"63.623047\" xlink:href=\"#DejaVuSans-35\"/>\r\n       <use x=\"127.246094\" xlink:href=\"#DejaVuSans-30\"/>\r\n      </g>\r\n     </g>\r\n    </g>\r\n    <g id=\"xtick_5\">\r\n     <g id=\"line2d_5\">\r\n      <g>\r\n       <use style=\"stroke:#000000;stroke-width:0.8;\" x=\"298.770142\" xlink:href=\"#m8e06bf7b21\" y=\"224.64\"/>\r\n      </g>\r\n     </g>\r\n     <g id=\"text_5\">\r\n      <!-- 200 -->\r\n      <g transform=\"translate(289.226392 239.238437)scale(0.1 -0.1)\">\r\n       <defs>\r\n        <path d=\"M 1228 531 \r\nL 3431 531 \r\nL 3431 0 \r\nL 469 0 \r\nL 469 531 \r\nQ 828 903 1448 1529 \r\nQ 2069 2156 2228 2338 \r\nQ 2531 2678 2651 2914 \r\nQ 2772 3150 2772 3378 \r\nQ 2772 3750 2511 3984 \r\nQ 2250 4219 1831 4219 \r\nQ 1534 4219 1204 4116 \r\nQ 875 4013 500 3803 \r\nL 500 4441 \r\nQ 881 4594 1212 4672 \r\nQ 1544 4750 1819 4750 \r\nQ 2544 4750 2975 4387 \r\nQ 3406 4025 3406 3419 \r\nQ 3406 3131 3298 2873 \r\nQ 3191 2616 2906 2266 \r\nQ 2828 2175 2409 1742 \r\nQ 1991 1309 1228 531 \r\nz\r\n\" id=\"DejaVuSans-32\" transform=\"scale(0.015625)\"/>\r\n       </defs>\r\n       <use xlink:href=\"#DejaVuSans-32\"/>\r\n       <use x=\"63.623047\" xlink:href=\"#DejaVuSans-30\"/>\r\n       <use x=\"127.246094\" xlink:href=\"#DejaVuSans-30\"/>\r\n      </g>\r\n     </g>\r\n    </g>\r\n    <g id=\"xtick_6\">\r\n     <g id=\"line2d_6\">\r\n      <g>\r\n       <use style=\"stroke:#000000;stroke-width:0.8;\" x=\"356.854806\" xlink:href=\"#m8e06bf7b21\" y=\"224.64\"/>\r\n      </g>\r\n     </g>\r\n     <g id=\"text_6\">\r\n      <!-- 250 -->\r\n      <g transform=\"translate(347.311056 239.238437)scale(0.1 -0.1)\">\r\n       <use xlink:href=\"#DejaVuSans-32\"/>\r\n       <use x=\"63.623047\" xlink:href=\"#DejaVuSans-35\"/>\r\n       <use x=\"127.246094\" xlink:href=\"#DejaVuSans-30\"/>\r\n      </g>\r\n     </g>\r\n    </g>\r\n   </g>\r\n   <g id=\"matplotlib.axis_2\">\r\n    <g id=\"ytick_1\">\r\n     <g id=\"line2d_7\">\r\n      <defs>\r\n       <path d=\"M 0 0 \r\nL -3.5 0 \r\n\" id=\"m8298537875\" style=\"stroke:#000000;stroke-width:0.8;\"/>\r\n      </defs>\r\n      <g>\r\n       <use style=\"stroke:#000000;stroke-width:0.8;\" x=\"52.375\" xlink:href=\"#m8298537875\" y=\"215.845757\"/>\r\n      </g>\r\n     </g>\r\n     <g id=\"text_7\">\r\n      <!-- 0 -->\r\n      <g transform=\"translate(39.0125 219.644976)scale(0.1 -0.1)\">\r\n       <use xlink:href=\"#DejaVuSans-30\"/>\r\n      </g>\r\n     </g>\r\n    </g>\r\n    <g id=\"ytick_2\">\r\n     <g id=\"line2d_8\">\r\n      <g>\r\n       <use style=\"stroke:#000000;stroke-width:0.8;\" x=\"52.375\" xlink:href=\"#m8298537875\" y=\"184.662612\"/>\r\n      </g>\r\n     </g>\r\n     <g id=\"text_8\">\r\n      <!-- 20000 -->\r\n      <g transform=\"translate(13.5625 188.461831)scale(0.1 -0.1)\">\r\n       <use xlink:href=\"#DejaVuSans-32\"/>\r\n       <use x=\"63.623047\" xlink:href=\"#DejaVuSans-30\"/>\r\n       <use x=\"127.246094\" xlink:href=\"#DejaVuSans-30\"/>\r\n       <use x=\"190.869141\" xlink:href=\"#DejaVuSans-30\"/>\r\n       <use x=\"254.492188\" xlink:href=\"#DejaVuSans-30\"/>\r\n      </g>\r\n     </g>\r\n    </g>\r\n    <g id=\"ytick_3\">\r\n     <g id=\"line2d_9\">\r\n      <g>\r\n       <use style=\"stroke:#000000;stroke-width:0.8;\" x=\"52.375\" xlink:href=\"#m8298537875\" y=\"153.479466\"/>\r\n      </g>\r\n     </g>\r\n     <g id=\"text_9\">\r\n      <!-- 40000 -->\r\n      <g transform=\"translate(13.5625 157.278685)scale(0.1 -0.1)\">\r\n       <defs>\r\n        <path d=\"M 2419 4116 \r\nL 825 1625 \r\nL 2419 1625 \r\nL 2419 4116 \r\nz\r\nM 2253 4666 \r\nL 3047 4666 \r\nL 3047 1625 \r\nL 3713 1625 \r\nL 3713 1100 \r\nL 3047 1100 \r\nL 3047 0 \r\nL 2419 0 \r\nL 2419 1100 \r\nL 313 1100 \r\nL 313 1709 \r\nL 2253 4666 \r\nz\r\n\" id=\"DejaVuSans-34\" transform=\"scale(0.015625)\"/>\r\n       </defs>\r\n       <use xlink:href=\"#DejaVuSans-34\"/>\r\n       <use x=\"63.623047\" xlink:href=\"#DejaVuSans-30\"/>\r\n       <use x=\"127.246094\" xlink:href=\"#DejaVuSans-30\"/>\r\n       <use x=\"190.869141\" xlink:href=\"#DejaVuSans-30\"/>\r\n       <use x=\"254.492188\" xlink:href=\"#DejaVuSans-30\"/>\r\n      </g>\r\n     </g>\r\n    </g>\r\n    <g id=\"ytick_4\">\r\n     <g id=\"line2d_10\">\r\n      <g>\r\n       <use style=\"stroke:#000000;stroke-width:0.8;\" x=\"52.375\" xlink:href=\"#m8298537875\" y=\"122.296321\"/>\r\n      </g>\r\n     </g>\r\n     <g id=\"text_10\">\r\n      <!-- 60000 -->\r\n      <g transform=\"translate(13.5625 126.09554)scale(0.1 -0.1)\">\r\n       <defs>\r\n        <path d=\"M 2113 2584 \r\nQ 1688 2584 1439 2293 \r\nQ 1191 2003 1191 1497 \r\nQ 1191 994 1439 701 \r\nQ 1688 409 2113 409 \r\nQ 2538 409 2786 701 \r\nQ 3034 994 3034 1497 \r\nQ 3034 2003 2786 2293 \r\nQ 2538 2584 2113 2584 \r\nz\r\nM 3366 4563 \r\nL 3366 3988 \r\nQ 3128 4100 2886 4159 \r\nQ 2644 4219 2406 4219 \r\nQ 1781 4219 1451 3797 \r\nQ 1122 3375 1075 2522 \r\nQ 1259 2794 1537 2939 \r\nQ 1816 3084 2150 3084 \r\nQ 2853 3084 3261 2657 \r\nQ 3669 2231 3669 1497 \r\nQ 3669 778 3244 343 \r\nQ 2819 -91 2113 -91 \r\nQ 1303 -91 875 529 \r\nQ 447 1150 447 2328 \r\nQ 447 3434 972 4092 \r\nQ 1497 4750 2381 4750 \r\nQ 2619 4750 2861 4703 \r\nQ 3103 4656 3366 4563 \r\nz\r\n\" id=\"DejaVuSans-36\" transform=\"scale(0.015625)\"/>\r\n       </defs>\r\n       <use xlink:href=\"#DejaVuSans-36\"/>\r\n       <use x=\"63.623047\" xlink:href=\"#DejaVuSans-30\"/>\r\n       <use x=\"127.246094\" xlink:href=\"#DejaVuSans-30\"/>\r\n       <use x=\"190.869141\" xlink:href=\"#DejaVuSans-30\"/>\r\n       <use x=\"254.492188\" xlink:href=\"#DejaVuSans-30\"/>\r\n      </g>\r\n     </g>\r\n    </g>\r\n    <g id=\"ytick_5\">\r\n     <g id=\"line2d_11\">\r\n      <g>\r\n       <use style=\"stroke:#000000;stroke-width:0.8;\" x=\"52.375\" xlink:href=\"#m8298537875\" y=\"91.113176\"/>\r\n      </g>\r\n     </g>\r\n     <g id=\"text_11\">\r\n      <!-- 80000 -->\r\n      <g transform=\"translate(13.5625 94.912395)scale(0.1 -0.1)\">\r\n       <defs>\r\n        <path d=\"M 2034 2216 \r\nQ 1584 2216 1326 1975 \r\nQ 1069 1734 1069 1313 \r\nQ 1069 891 1326 650 \r\nQ 1584 409 2034 409 \r\nQ 2484 409 2743 651 \r\nQ 3003 894 3003 1313 \r\nQ 3003 1734 2745 1975 \r\nQ 2488 2216 2034 2216 \r\nz\r\nM 1403 2484 \r\nQ 997 2584 770 2862 \r\nQ 544 3141 544 3541 \r\nQ 544 4100 942 4425 \r\nQ 1341 4750 2034 4750 \r\nQ 2731 4750 3128 4425 \r\nQ 3525 4100 3525 3541 \r\nQ 3525 3141 3298 2862 \r\nQ 3072 2584 2669 2484 \r\nQ 3125 2378 3379 2068 \r\nQ 3634 1759 3634 1313 \r\nQ 3634 634 3220 271 \r\nQ 2806 -91 2034 -91 \r\nQ 1263 -91 848 271 \r\nQ 434 634 434 1313 \r\nQ 434 1759 690 2068 \r\nQ 947 2378 1403 2484 \r\nz\r\nM 1172 3481 \r\nQ 1172 3119 1398 2916 \r\nQ 1625 2713 2034 2713 \r\nQ 2441 2713 2670 2916 \r\nQ 2900 3119 2900 3481 \r\nQ 2900 3844 2670 4047 \r\nQ 2441 4250 2034 4250 \r\nQ 1625 4250 1398 4047 \r\nQ 1172 3844 1172 3481 \r\nz\r\n\" id=\"DejaVuSans-38\" transform=\"scale(0.015625)\"/>\r\n       </defs>\r\n       <use xlink:href=\"#DejaVuSans-38\"/>\r\n       <use x=\"63.623047\" xlink:href=\"#DejaVuSans-30\"/>\r\n       <use x=\"127.246094\" xlink:href=\"#DejaVuSans-30\"/>\r\n       <use x=\"190.869141\" xlink:href=\"#DejaVuSans-30\"/>\r\n       <use x=\"254.492188\" xlink:href=\"#DejaVuSans-30\"/>\r\n      </g>\r\n     </g>\r\n    </g>\r\n    <g id=\"ytick_6\">\r\n     <g id=\"line2d_12\">\r\n      <g>\r\n       <use style=\"stroke:#000000;stroke-width:0.8;\" x=\"52.375\" xlink:href=\"#m8298537875\" y=\"59.93003\"/>\r\n      </g>\r\n     </g>\r\n     <g id=\"text_12\">\r\n      <!-- 100000 -->\r\n      <g transform=\"translate(7.2 63.729249)scale(0.1 -0.1)\">\r\n       <use xlink:href=\"#DejaVuSans-31\"/>\r\n       <use x=\"63.623047\" xlink:href=\"#DejaVuSans-30\"/>\r\n       <use x=\"127.246094\" xlink:href=\"#DejaVuSans-30\"/>\r\n       <use x=\"190.869141\" xlink:href=\"#DejaVuSans-30\"/>\r\n       <use x=\"254.492188\" xlink:href=\"#DejaVuSans-30\"/>\r\n       <use x=\"318.115234\" xlink:href=\"#DejaVuSans-30\"/>\r\n      </g>\r\n     </g>\r\n    </g>\r\n    <g id=\"ytick_7\">\r\n     <g id=\"line2d_13\">\r\n      <g>\r\n       <use style=\"stroke:#000000;stroke-width:0.8;\" x=\"52.375\" xlink:href=\"#m8298537875\" y=\"28.746885\"/>\r\n      </g>\r\n     </g>\r\n     <g id=\"text_13\">\r\n      <!-- 120000 -->\r\n      <g transform=\"translate(7.2 32.546104)scale(0.1 -0.1)\">\r\n       <use xlink:href=\"#DejaVuSans-31\"/>\r\n       <use x=\"63.623047\" xlink:href=\"#DejaVuSans-32\"/>\r\n       <use x=\"127.246094\" xlink:href=\"#DejaVuSans-30\"/>\r\n       <use x=\"190.869141\" xlink:href=\"#DejaVuSans-30\"/>\r\n       <use x=\"254.492188\" xlink:href=\"#DejaVuSans-30\"/>\r\n       <use x=\"318.115234\" xlink:href=\"#DejaVuSans-30\"/>\r\n      </g>\r\n     </g>\r\n    </g>\r\n   </g>\r\n   <g id=\"line2d_14\">\r\n    <path clip-path=\"url(#p2b3c4e0c32)\" d=\"M 67.593182 212.814573 \r\nL 68.754875 205.782745 \r\nL 69.916568 197.853042 \r\nM 72.239955 189.766167 \r\nL 73.401648 102.963311 \r\nL 74.563341 184.756269 \r\nL 75.725035 202.07409 \r\nM 78.048421 180.512933 \r\nL 79.210115 144.105301 \r\nL 80.371808 137.027936 \r\nL 81.533501 188.939962 \r\nL 82.695194 214.633118 \r\nL 83.856888 143.456157 \r\nL 85.018581 212.466061 \r\nL 86.180274 213.084466 \r\nL 87.341967 210.264353 \r\nL 88.503661 185.843482 \r\nM 90.827047 180.738499 \r\nL 91.98874 196.867591 \r\nL 93.150434 187.677553 \r\nL 94.312127 202.652892 \r\nM 96.635514 204.566509 \r\nL 97.797207 192.265297 \r\nL 98.9589 187.680198 \r\nL 100.120593 95.134847 \r\nL 101.282287 201.968065 \r\nL 102.44398 189.407557 \r\nL 103.605673 214.756364 \r\nL 104.767366 145.965134 \r\nL 105.92906 173.980563 \r\nL 107.090753 116.233176 \r\nM 109.414139 179.682704 \r\nL 110.575833 191.633473 \r\nL 111.737526 210.087108 \r\nL 112.899219 210.218173 \r\nL 114.060913 214.59589 \r\nL 115.222606 206.931602 \r\nL 116.384299 193.777558 \r\nL 117.545992 213.472942 \r\nL 118.707686 205.631221 \r\nL 119.869379 189.948561 \r\nL 121.031072 191.88052 \r\nM 125.677845 164.849039 \r\nL 126.839539 161.66627 \r\nL 128.001232 139.664514 \r\nM 130.324618 198.776547 \r\nL 131.486312 139.401812 \r\nL 132.648005 192.138876 \r\nL 133.809698 192.437667 \r\nL 134.971391 194.26707 \r\nL 136.133085 201.539485 \r\nL 137.294778 189.300496 \r\nL 138.456471 185.417115 \r\nL 139.618164 166.939878 \r\nL 140.779858 198.317637 \r\nL 141.941551 198.494204 \r\nL 143.103244 150.261687 \r\nM 145.426631 159.24078 \r\nL 146.588324 169.471216 \r\nL 147.750017 213.141455 \r\nL 148.911711 154.086186 \r\nL 150.073404 209.212558 \r\nL 151.235097 148.212406 \r\nL 152.39679 201.641909 \r\nL 153.558484 151.385062 \r\nM 155.88187 210.375118 \r\nL 157.043563 187.620548 \r\nL 158.205257 149.338007 \r\nL 159.36695 200.247124 \r\nL 160.528643 209.153154 \r\nM 162.85203 212.779862 \r\nL 164.013723 213.231261 \r\nL 165.175416 213.337534 \r\nL 166.33711 175.217116 \r\nL 167.498803 174.093857 \r\nL 168.660496 193.705713 \r\nM 173.307269 203.62761 \r\nL 174.468963 142.775919 \r\nL 175.630656 124.451122 \r\nL 176.792349 208.46028 \r\nL 177.954042 212.306267 \r\nL 179.115736 179.326524 \r\nL 180.277429 213.064665 \r\nL 181.439122 174.215079 \r\nL 182.600815 195.679705 \r\nL 183.762509 199.337121 \r\nL 184.924202 210.18916 \r\nL 186.085895 207.736527 \r\nL 187.247588 197.745459 \r\nL 188.409282 211.42702 \r\nM 193.056055 104.409207 \r\nL 194.217748 184.74241 \r\nL 195.379441 188.796037 \r\nL 196.541135 136.725257 \r\nL 197.702828 157.754327 \r\nL 198.864521 156.005032 \r\nL 200.026214 202.091945 \r\nL 201.187908 201.738863 \r\nL 202.349601 149.922735 \r\nL 203.511294 176.420988 \r\nL 204.672988 210.926438 \r\nL 205.834681 210.307487 \r\nL 206.996374 210.019242 \r\nL 208.158067 212.558216 \r\nL 209.319761 174.710841 \r\nL 210.481454 158.885887 \r\nL 211.643147 100.056504 \r\nL 212.80484 192.874764 \r\nL 213.966534 205.633795 \r\nL 215.128227 193.536164 \r\nL 216.28992 214.578671 \r\nM 218.613307 195.650422 \r\nL 219.775 192.129493 \r\nL 220.936693 211.757539 \r\nL 222.098387 213.19305 \r\nM 224.421773 196.647947 \r\nL 225.583466 205.241474 \r\nL 226.74516 199.607923 \r\nL 227.906853 211.24465 \r\nL 230.230239 169.285706 \r\nL 231.391933 56.204521 \r\nL 232.553626 175.950995 \r\nL 233.715319 51.478752 \r\nM 238.362092 207.531882 \r\nL 239.523786 213.497295 \r\nL 240.685479 191.915815 \r\nL 241.847172 185.418175 \r\nL 243.008865 188.911591 \r\nL 244.170559 209.573301 \r\nL 245.332252 198.004581 \r\nL 246.493945 192.548521 \r\nL 247.655638 212.531432 \r\nL 248.817332 156.709508 \r\nL 249.979025 206.925463 \r\nL 251.140718 195.399014 \r\nL 252.302412 188.35293 \r\nL 253.464105 196.74253 \r\nM 255.787491 213.948586 \r\nL 256.949185 209.839063 \r\nL 258.110878 182.943549 \r\nL 259.272571 214.023374 \r\nL 261.595958 127.995097 \r\nL 262.757651 199.279825 \r\nM 265.081037 214.308105 \r\nL 266.242731 206.707397 \r\nL 267.404424 207.208296 \r\nL 268.566117 137.048121 \r\nL 269.727811 124.182806 \r\nL 270.889504 211.982316 \r\nL 272.051197 194.069791 \r\nL 273.21289 155.716228 \r\nL 274.374584 150.539011 \r\nM 276.69797 176.820419 \r\nL 277.859663 207.682823 \r\nL 279.021357 179.971629 \r\nL 280.18305 195.547699 \r\nL 281.344743 203.677832 \r\nL 282.506437 190.422941 \r\nL 283.66813 209.324521 \r\nL 284.829823 173.150956 \r\nL 285.991516 209.959822 \r\nL 287.15321 157.001777 \r\nM 289.476596 168.044128 \r\nL 290.638289 200.928771 \r\nM 292.961676 206.958422 \r\nL 294.123369 145.988557 \r\nM 296.446756 17.083636 \r\nL 297.608449 179.942592 \r\nL 298.770142 177.196308 \r\nL 299.931836 212.863243 \r\nL 301.093529 206.392811 \r\nL 302.255222 131.0017 \r\nL 303.416915 208.470223 \r\nL 304.578609 211.844774 \r\nL 305.740302 78.900942 \r\nL 306.901995 212.36055 \r\nL 308.063688 213.544108 \r\nL 309.225382 202.410791 \r\nL 310.387075 120.841736 \r\nM 312.710461 193.214651 \r\nL 313.872155 210.043103 \r\nM 316.195541 210.039579 \r\nL 317.357235 181.400167 \r\nL 318.518928 210.798153 \r\nL 319.680621 192.510297 \r\nL 320.842314 168.353228 \r\nL 322.004008 164.825342 \r\nL 323.165701 139.595866 \r\nL 324.327394 202.858662 \r\nM 330.135861 212.741901 \r\nL 331.297554 194.038404 \r\nL 332.459247 184.394341 \r\nL 333.62094 213.521777 \r\nL 334.782634 189.47516 \r\nL 335.944327 211.200544 \r\nL 337.10602 189.533438 \r\nL 338.267713 192.261225 \r\nL 339.429407 212.508603 \r\nL 340.5911 195.242862 \r\nL 341.752793 206.888101 \r\nL 342.914486 206.392811 \r\nL 344.07618 210.039579 \r\nL 345.237873 164.620083 \r\nL 346.399566 197.76653 \r\nL 347.56126 176.481399 \r\nL 348.722953 210.153241 \r\nL 351.046339 213.008973 \r\nL 352.208033 202.952127 \r\nL 353.369726 189.520395 \r\nL 354.531419 182.137388 \r\nL 355.693112 125.978803 \r\nL 356.854806 205.691462 \r\nL 358.016499 197.98282 \r\nM 362.663272 206.029941 \r\nL 363.824965 211.042671 \r\nL 364.986659 190.561018 \r\nL 366.148352 205.901052 \r\nL 367.310045 200.154775 \r\nL 368.471738 211.936215 \r\nL 369.633432 195.269853 \r\nL 370.795125 209.713488 \r\nL 371.956818 212.685213 \r\nL 371.956818 212.685213 \r\n\" style=\"fill:none;stroke:#1f77b4;stroke-linecap:square;stroke-width:1.5;\"/>\r\n   </g>\r\n   <g id=\"patch_3\">\r\n    <path d=\"M 52.375 224.64 \r\nL 52.375 7.2 \r\n\" style=\"fill:none;stroke:#000000;stroke-linecap:square;stroke-linejoin:miter;stroke-width:0.8;\"/>\r\n   </g>\r\n   <g id=\"patch_4\">\r\n    <path d=\"M 387.175 224.64 \r\nL 387.175 7.2 \r\n\" style=\"fill:none;stroke:#000000;stroke-linecap:square;stroke-linejoin:miter;stroke-width:0.8;\"/>\r\n   </g>\r\n   <g id=\"patch_5\">\r\n    <path d=\"M 52.375 224.64 \r\nL 387.175 224.64 \r\n\" style=\"fill:none;stroke:#000000;stroke-linecap:square;stroke-linejoin:miter;stroke-width:0.8;\"/>\r\n   </g>\r\n   <g id=\"patch_6\">\r\n    <path d=\"M 52.375 7.2 \r\nL 387.175 7.2 \r\n\" style=\"fill:none;stroke:#000000;stroke-linecap:square;stroke-linejoin:miter;stroke-width:0.8;\"/>\r\n   </g>\r\n  </g>\r\n </g>\r\n <defs>\r\n  <clipPath id=\"p2b3c4e0c32\">\r\n   <rect height=\"217.44\" width=\"334.8\" x=\"52.375\" y=\"7.2\"/>\r\n  </clipPath>\r\n </defs>\r\n</svg>\r\n",
      "image/png": "[encoded data removed]"
     },
     "metadata": {
      "needs_background": "light"
     }
    }
   ],
   "source": [
    "plt.plot(gdp_16)\n",
    "plt.show()"
   ]
  },
  {
   "cell_type": "code",
   "execution_count": 9,
   "metadata": {},
   "outputs": [
    {
     "output_type": "execute_result",
     "data": {
      "text/plain": [
       "nan"
      ]
     },
     "metadata": {},
     "execution_count": 9
    }
   ],
   "source": [
    "np.median(gdp_16)"
   ]
  },
  {
   "cell_type": "code",
   "execution_count": 10,
   "metadata": {},
   "outputs": [
    {
     "output_type": "execute_result",
     "data": {
      "text/plain": [
       "array([            nan,   1944.11700491,   6454.13537039,  11540.02556108,\n",
       "                   nan,  16726.72218488,  72399.65347339,  19939.93077479,\n",
       "         8832.76343477,             nan,  22661.48853616,  46012.32845157,\n",
       "        50551.5531752 ,  17256.62697044,    777.75285166,  46428.67142458,\n",
       "         2167.64282343,   1771.01528722,   3579.75679135,  19242.62261574,\n",
       "                   nan,  22516.81648228,  12172.06646607,  18066.3006624 ,\n",
       "         8461.53565294,             nan,   7234.19524335,  15123.85001428,\n",
       "        18064.60442722,  77420.61217204,   8900.76455309,  16956.72477025,\n",
       "          698.70665573,  44819.48360027,  26851.1685408 ,  63888.73238665,\n",
       "                   nan,  23193.97411052,  15529.08410645,   3693.43690912,\n",
       "         3609.37559695,    801.63011974,   5717.29037095,  14153.92792519,\n",
       "         1521.85721808,   6551.31894829,  16609.73935418,  15370.63489842,\n",
       "                   nan,             nan,             nan,  32707.872887  ,\n",
       "        34749.21236327,  48860.52529211,             nan,  10947.71518781,\n",
       "        49029.01483891,  15204.93246446,  15013.29637986,  13839.96863584,\n",
       "         9175.64442097,  17025.39067931,  19516.08298373,  31366.86706838,\n",
       "        11242.04751604,  11128.80247428,  42063.79406454,             nan,\n",
       "        36304.85427275,  29743.33742802,   1734.46407452,  39610.86680734,\n",
       "         4254.34870787,  43378.14602882,   9109.95196333,  41343.29253554,\n",
       "                   nan,   3508.71519196,  18102.86221919,  42656.2166022 ,\n",
       "        10004.5284119 ,   4292.44889992,             nan,   1966.37968826,\n",
       "         1676.86477284,   1608.70437903,  26058.077443  ,  26778.50496589,\n",
       "        14200.00719381,             nan,   7944.69135314,             nan,\n",
       "         7836.3791763 ,  46864.95679091,  58617.97062639,   4736.83914255,\n",
       "         2270.13030428,  23422.41797653,   1783.71512959,  26700.75608264,\n",
       "        12933.94330355,  10588.17884122,   3627.9834637 ,   5201.03397093,\n",
       "        11609.02662172,   2834.05481866,             nan,   6570.61624581,\n",
       "                   nan,  71472.29596487,  19948.81948407,  17348.93653235,\n",
       "        50745.68297711,  37258.22359457,  38380.17241178,   8821.31142953,\n",
       "         9047.7689234 ,  42281.18818958,  25285.94773126,   3155.11426394,\n",
       "         3552.09178948,   3736.96461203,   2108.53722771,  26382.78803193,\n",
       "        36532.47268398,  74263.99862606,  14732.95458354,   6549.66799975,\n",
       "        14308.75112714,    812.67394381,             nan,  12952.72516857,\n",
       "        15210.95079266,   2622.06907623,   1701.37258736,             nan,\n",
       "        12312.94005099,   6801.29184829,  10414.49383242,   2951.02189398,\n",
       "        16689.09756884,  29862.31889041, 102389.43772763,  25587.38808847,\n",
       "       105420.41423718,             nan,   7857.4877165 ,             nan,\n",
       "         5332.28777311,   1506.23832521,  15347.99776172,  19515.40260527,\n",
       "        17274.82307137,   4022.97863242,  11442.8331081 ,  14942.19764347,\n",
       "         2125.71602653,  37928.34126866,   5721.22800363,  13113.97108338,\n",
       "        17633.13298468,  12252.27719639,             nan,   1216.79278744,\n",
       "         3852.52590437,  21102.5589232 ,   1168.82562558,  27682.6079403 ,\n",
       "        56344.96375629,  10624.92711311,             nan,    986.20696062,\n",
       "         5861.08965603,   5539.82671595,  50538.6065696 ,  58790.06140389,\n",
       "         2477.9033451 ,  13966.49778022,  38565.40345261,  41885.92611335,\n",
       "                   nan,  25029.76382064,   5235.47808502,  23008.66536715,\n",
       "        13018.60861238,   7804.16780147,  16305.48534045,   4182.53934131,\n",
       "        27383.254937  ,   3775.07502387,  37740.88825606,             nan,\n",
       "        30658.63199533,   9567.33912818,             nan,   5700.08893902,\n",
       "        44804.46017271,             nan, 127480.48251099,  23027.28926439,\n",
       "        24788.67927912,   1912.90118206,   6062.85581457,  54416.61249319,\n",
       "         4730.46186883,   2566.11917856,  87832.58651422,   2235.3146905 ,\n",
       "         1476.21371969,   8616.81241755,  60932.93003722,             nan,\n",
       "        14514.96055305,   3721.66067336,             nan,   3723.92091102,\n",
       "        22092.44125736,   3237.3925436 ,  14966.7137949 ,  30460.38408107,\n",
       "        32723.07195376,  48904.55437072,   8329.56058149,             nan,\n",
       "        28383.89621333,             nan,             nan,   1990.72665731,\n",
       "        13986.6283938 ,  20172.0612279 ,   1490.53623573,  16913.36607526,\n",
       "         2979.31023902,  16875.9877489 ,  15126.46133663,   2140.35737389,\n",
       "        13214.12254515,   5745.19122926,   6062.85581457,   3723.92091102,\n",
       "        32854.71905846,  11595.51237921,  25247.2017505 ,   3651.02148404,\n",
       "         2786.2722427 ,   1819.43435088,   8269.61463355,  16884.35346567,\n",
       "        21619.60793375,  57638.15908799,   6512.68213067,  11456.78995224,\n",
       "                   nan,             nan,             nan,   6295.59058534,\n",
       "         3080.56575434,  16216.92698557,   6378.25656692,  10063.75847519,\n",
       "         2507.47166249,  13196.81122696,   3933.06646044,   2027.08491653])"
      ]
     },
     "metadata": {},
     "execution_count": 10
    }
   ],
   "source": [
    "gdp_16"
   ]
  },
  {
   "cell_type": "markdown",
   "metadata": {},
   "source": [
    "Because our data contains some nan values, we need to remove them"
   ]
  },
  {
   "cell_type": "markdown",
   "metadata": {},
   "source": [
    "#### The complement operator (~) can be used to remove nan elements"
   ]
  },
  {
   "cell_type": "code",
   "execution_count": 11,
   "metadata": {
    "collapsed": true
   },
   "outputs": [],
   "source": [
    "gdp_16 = gdp_16[~np.isnan(gdp_16)]"
   ]
  },
  {
   "cell_type": "code",
   "execution_count": 12,
   "metadata": {},
   "outputs": [
    {
     "output_type": "execute_result",
     "data": {
      "text/plain": [
       "array([  1944.11700491,   6454.13537039,  11540.02556108,  16726.72218488,\n",
       "        72399.65347339,  19939.93077479,   8832.76343477,  22661.48853616,\n",
       "        46012.32845157,  50551.5531752 ,  17256.62697044,    777.75285166,\n",
       "        46428.67142458,   2167.64282343,   1771.01528722,   3579.75679135,\n",
       "        19242.62261574,  22516.81648228,  12172.06646607,  18066.3006624 ,\n",
       "         8461.53565294,   7234.19524335,  15123.85001428,  18064.60442722,\n",
       "        77420.61217204,   8900.76455309,  16956.72477025,    698.70665573,\n",
       "        44819.48360027,  26851.1685408 ,  63888.73238665,  23193.97411052,\n",
       "        15529.08410645,   3693.43690912,   3609.37559695,    801.63011974,\n",
       "         5717.29037095,  14153.92792519,   1521.85721808,   6551.31894829,\n",
       "        16609.73935418,  15370.63489842,  32707.872887  ,  34749.21236327,\n",
       "        48860.52529211,  10947.71518781,  49029.01483891,  15204.93246446,\n",
       "        15013.29637986,  13839.96863584,   9175.64442097,  17025.39067931,\n",
       "        19516.08298373,  31366.86706838,  11242.04751604,  11128.80247428,\n",
       "        42063.79406454,  36304.85427275,  29743.33742802,   1734.46407452,\n",
       "        39610.86680734,   4254.34870787,  43378.14602882,   9109.95196333,\n",
       "        41343.29253554,   3508.71519196,  18102.86221919,  42656.2166022 ,\n",
       "        10004.5284119 ,   4292.44889992,   1966.37968826,   1676.86477284,\n",
       "         1608.70437903,  26058.077443  ,  26778.50496589,  14200.00719381,\n",
       "         7944.69135314,   7836.3791763 ,  46864.95679091,  58617.97062639,\n",
       "         4736.83914255,   2270.13030428,  23422.41797653,   1783.71512959,\n",
       "        26700.75608264,  12933.94330355,  10588.17884122,   3627.9834637 ,\n",
       "         5201.03397093,  11609.02662172,   2834.05481866,   6570.61624581,\n",
       "        71472.29596487,  19948.81948407,  17348.93653235,  50745.68297711,\n",
       "        37258.22359457,  38380.17241178,   8821.31142953,   9047.7689234 ,\n",
       "        42281.18818958,  25285.94773126,   3155.11426394,   3552.09178948,\n",
       "         3736.96461203,   2108.53722771,  26382.78803193,  36532.47268398,\n",
       "        74263.99862606,  14732.95458354,   6549.66799975,  14308.75112714,\n",
       "          812.67394381,  12952.72516857,  15210.95079266,   2622.06907623,\n",
       "         1701.37258736,  12312.94005099,   6801.29184829,  10414.49383242,\n",
       "         2951.02189398,  16689.09756884,  29862.31889041, 102389.43772763,\n",
       "        25587.38808847, 105420.41423718,   7857.4877165 ,   5332.28777311,\n",
       "         1506.23832521,  15347.99776172,  19515.40260527,  17274.82307137,\n",
       "         4022.97863242,  11442.8331081 ,  14942.19764347,   2125.71602653,\n",
       "        37928.34126866,   5721.22800363,  13113.97108338,  17633.13298468,\n",
       "        12252.27719639,   1216.79278744,   3852.52590437,  21102.5589232 ,\n",
       "         1168.82562558,  27682.6079403 ,  56344.96375629,  10624.92711311,\n",
       "          986.20696062,   5861.08965603,   5539.82671595,  50538.6065696 ,\n",
       "        58790.06140389,   2477.9033451 ,  13966.49778022,  38565.40345261,\n",
       "        41885.92611335,  25029.76382064,   5235.47808502,  23008.66536715,\n",
       "        13018.60861238,   7804.16780147,  16305.48534045,   4182.53934131,\n",
       "        27383.254937  ,   3775.07502387,  37740.88825606,  30658.63199533,\n",
       "         9567.33912818,   5700.08893902,  44804.46017271, 127480.48251099,\n",
       "        23027.28926439,  24788.67927912,   1912.90118206,   6062.85581457,\n",
       "        54416.61249319,   4730.46186883,   2566.11917856,  87832.58651422,\n",
       "         2235.3146905 ,   1476.21371969,   8616.81241755,  60932.93003722,\n",
       "        14514.96055305,   3721.66067336,   3723.92091102,  22092.44125736,\n",
       "         3237.3925436 ,  14966.7137949 ,  30460.38408107,  32723.07195376,\n",
       "        48904.55437072,   8329.56058149,  28383.89621333,   1990.72665731,\n",
       "        13986.6283938 ,  20172.0612279 ,   1490.53623573,  16913.36607526,\n",
       "         2979.31023902,  16875.9877489 ,  15126.46133663,   2140.35737389,\n",
       "        13214.12254515,   5745.19122926,   6062.85581457,   3723.92091102,\n",
       "        32854.71905846,  11595.51237921,  25247.2017505 ,   3651.02148404,\n",
       "         2786.2722427 ,   1819.43435088,   8269.61463355,  16884.35346567,\n",
       "        21619.60793375,  57638.15908799,   6512.68213067,  11456.78995224,\n",
       "         6295.59058534,   3080.56575434,  16216.92698557,   6378.25656692,\n",
       "        10063.75847519,   2507.47166249,  13196.81122696,   3933.06646044,\n",
       "         2027.08491653])"
      ]
     },
     "metadata": {},
     "execution_count": 12
    }
   ],
   "source": [
    "gdp_16"
   ]
  },
  {
   "cell_type": "code",
   "execution_count": 13,
   "metadata": {},
   "outputs": [
    {
     "output_type": "execute_result",
     "data": {
      "text/plain": [
       "(229,)"
      ]
     },
     "metadata": {},
     "execution_count": 13
    }
   ],
   "source": [
    "gdp_16.shape"
   ]
  },
  {
   "cell_type": "code",
   "execution_count": 14,
   "metadata": {},
   "outputs": [
    {
     "output_type": "execute_result",
     "data": {
      "text/plain": [
       "13113.9710833787"
      ]
     },
     "metadata": {},
     "execution_count": 14
    }
   ],
   "source": [
    "np.median(gdp_16)"
   ]
  },
  {
   "cell_type": "code",
   "execution_count": 15,
   "metadata": {},
   "outputs": [
    {
     "output_type": "execute_result",
     "data": {
      "text/plain": [
       "19135.51651250454"
      ]
     },
     "metadata": {},
     "execution_count": 15
    }
   ],
   "source": [
    "np.mean(gdp_16)"
   ]
  },
  {
   "cell_type": "markdown",
   "metadata": {},
   "source": [
    "The unofficial threshold for a country with a developed economy is a GDP per capita of $12,000. "
   ]
  },
  {
   "cell_type": "markdown",
   "metadata": {},
   "source": [
    "\n",
    "Some economists prefer to see a per capita GDP of at least $25,000 to be comfortable declaring a country as developed, however. "
   ]
  },
  {
   "cell_type": "markdown",
   "metadata": {},
   "source": [
    "Many highly developed countries, including the United States, have high per capita GDPs of $40,000 or above."
   ]
  },
  {
   "cell_type": "code",
   "execution_count": 16,
   "metadata": {},
   "outputs": [
    {
     "output_type": "execute_result",
     "data": {
      "text/plain": [
       "32"
      ]
     },
     "metadata": {},
     "execution_count": 16
    }
   ],
   "source": [
    "np.count_nonzero(gdp_16[gdp_16 > 40000]) "
   ]
  },
  {
   "cell_type": "markdown",
   "metadata": {},
   "source": [
    "10 Lowest gdp per capita  "
   ]
  },
  {
   "cell_type": "code",
   "execution_count": 17,
   "metadata": {},
   "outputs": [
    {
     "output_type": "execute_result",
     "data": {
      "text/plain": [
       "array([ 698.70665573,  777.75285166,  801.63011974,  812.67394381,\n",
       "        986.20696062, 1168.82562558, 1216.79278744, 1476.21371969,\n",
       "       1490.53623573, 1506.23832521])"
      ]
     },
     "metadata": {},
     "execution_count": 17
    }
   ],
   "source": [
    "np.sort(gdp_16)[0:10]"
   ]
  },
  {
   "cell_type": "markdown",
   "metadata": {},
   "source": [
    "10 highest gdp per capita"
   ]
  },
  {
   "cell_type": "code",
   "execution_count": 18,
   "metadata": {},
   "outputs": [
    {
     "output_type": "execute_result",
     "data": {
      "text/plain": [
       "array([ 60932.93003722,  63888.73238665,  71472.29596487,  72399.65347339,\n",
       "        74263.99862606,  77420.61217204,  87832.58651422, 102389.43772763,\n",
       "       105420.41423718, 127480.48251099])"
      ]
     },
     "metadata": {},
     "execution_count": 18
    }
   ],
   "source": [
    "np.sort(gdp_16)[219:]"
   ]
  },
  {
   "cell_type": "markdown",
   "metadata": {},
   "source": [
    "### How many countries have gdp per capita higher than India? \n",
    "India's is 6570.6 USD (2016)."
   ]
  },
  {
   "cell_type": "markdown",
   "metadata": {},
   "source": [
    "##### Use fancy indexing to get values from an array which match a condition"
   ]
  },
  {
   "cell_type": "code",
   "execution_count": 19,
   "metadata": {},
   "outputs": [
    {
     "output_type": "execute_result",
     "data": {
      "text/plain": [
       "array([ 11540.02556108,  16726.72218488,  72399.65347339,  19939.93077479,\n",
       "         8832.76343477,  22661.48853616,  46012.32845157,  50551.5531752 ,\n",
       "        17256.62697044,  46428.67142458,  19242.62261574,  22516.81648228,\n",
       "        12172.06646607,  18066.3006624 ,   8461.53565294,   7234.19524335,\n",
       "        15123.85001428,  18064.60442722,  77420.61217204,   8900.76455309,\n",
       "        16956.72477025,  44819.48360027,  26851.1685408 ,  63888.73238665,\n",
       "        23193.97411052,  15529.08410645,  14153.92792519,  16609.73935418,\n",
       "        15370.63489842,  32707.872887  ,  34749.21236327,  48860.52529211,\n",
       "        10947.71518781,  49029.01483891,  15204.93246446,  15013.29637986,\n",
       "        13839.96863584,   9175.64442097,  17025.39067931,  19516.08298373,\n",
       "        31366.86706838,  11242.04751604,  11128.80247428,  42063.79406454,\n",
       "        36304.85427275,  29743.33742802,  39610.86680734,  43378.14602882,\n",
       "         9109.95196333,  41343.29253554,  18102.86221919,  42656.2166022 ,\n",
       "        10004.5284119 ,  26058.077443  ,  26778.50496589,  14200.00719381,\n",
       "         7944.69135314,   7836.3791763 ,  46864.95679091,  58617.97062639,\n",
       "        23422.41797653,  26700.75608264,  12933.94330355,  10588.17884122,\n",
       "        11609.02662172,   6570.61624581,  71472.29596487,  19948.81948407,\n",
       "        17348.93653235,  50745.68297711,  37258.22359457,  38380.17241178,\n",
       "         8821.31142953,   9047.7689234 ,  42281.18818958,  25285.94773126,\n",
       "        26382.78803193,  36532.47268398,  74263.99862606,  14732.95458354,\n",
       "        14308.75112714,  12952.72516857,  15210.95079266,  12312.94005099,\n",
       "         6801.29184829,  10414.49383242,  16689.09756884,  29862.31889041,\n",
       "       102389.43772763,  25587.38808847, 105420.41423718,   7857.4877165 ,\n",
       "        15347.99776172,  19515.40260527,  17274.82307137,  11442.8331081 ,\n",
       "        14942.19764347,  37928.34126866,  13113.97108338,  17633.13298468,\n",
       "        12252.27719639,  21102.5589232 ,  27682.6079403 ,  56344.96375629,\n",
       "        10624.92711311,  50538.6065696 ,  58790.06140389,  13966.49778022,\n",
       "        38565.40345261,  41885.92611335,  25029.76382064,  23008.66536715,\n",
       "        13018.60861238,   7804.16780147,  16305.48534045,  27383.254937  ,\n",
       "        37740.88825606,  30658.63199533,   9567.33912818,  44804.46017271,\n",
       "       127480.48251099,  23027.28926439,  24788.67927912,  54416.61249319,\n",
       "        87832.58651422,   8616.81241755,  60932.93003722,  14514.96055305,\n",
       "        22092.44125736,  14966.7137949 ,  30460.38408107,  32723.07195376,\n",
       "        48904.55437072,   8329.56058149,  28383.89621333,  13986.6283938 ,\n",
       "        20172.0612279 ,  16913.36607526,  16875.9877489 ,  15126.46133663,\n",
       "        13214.12254515,  32854.71905846,  11595.51237921,  25247.2017505 ,\n",
       "         8269.61463355,  16884.35346567,  21619.60793375,  57638.15908799,\n",
       "        11456.78995224,  16216.92698557,  10063.75847519,  13196.81122696])"
      ]
     },
     "metadata": {},
     "execution_count": 19
    }
   ],
   "source": [
    "gdp_16[gdp_16 > 6570.6]"
   ]
  },
  {
   "cell_type": "markdown",
   "metadata": {},
   "source": [
    "##### Count number of countries with a lower per-capita GDP"
   ]
  },
  {
   "cell_type": "code",
   "execution_count": 20,
   "metadata": {},
   "outputs": [
    {
     "output_type": "execute_result",
     "data": {
      "text/plain": [
       "152"
      ]
     },
     "metadata": {},
     "execution_count": 20
    }
   ],
   "source": [
    "np.count_nonzero(gdp_16[gdp_16 > 6570.6])"
   ]
  },
  {
   "cell_type": "code",
   "execution_count": 21,
   "metadata": {},
   "outputs": [
    {
     "output_type": "execute_result",
     "data": {
      "text/plain": [
       "77"
      ]
     },
     "metadata": {},
     "execution_count": 21
    }
   ],
   "source": [
    "np.count_nonzero(gdp_16[gdp_16 < 6570.6])"
   ]
  },
  {
   "cell_type": "markdown",
   "metadata": {},
   "source": [
    "##### How many fall into the range between India and Costa Rica?"
   ]
  },
  {
   "cell_type": "code",
   "execution_count": 22,
   "metadata": {},
   "outputs": [
    {
     "output_type": "execute_result",
     "data": {
      "text/plain": [
       "60"
      ]
     },
     "metadata": {},
     "execution_count": 22
    }
   ],
   "source": [
    "np.count_nonzero((gdp_16 > 6570.6) & (gdp_16 < 16609.7))"
   ]
  },
  {
   "cell_type": "markdown",
   "metadata": {},
   "source": [
    "##### Countries between Costa Rica and Finland?"
   ]
  },
  {
   "cell_type": "code",
   "execution_count": 23,
   "metadata": {},
   "outputs": [
    {
     "output_type": "execute_result",
     "data": {
      "text/plain": [
       "65"
      ]
     },
     "metadata": {},
     "execution_count": 23
    }
   ],
   "source": [
    "np.count_nonzero((gdp_16 > 16609.7) & (gdp_16 < 43378.1))"
   ]
  },
  {
   "cell_type": "markdown",
   "metadata": {},
   "source": [
    "##### Countries wealthier than Finland"
   ]
  },
  {
   "cell_type": "code",
   "execution_count": 24,
   "metadata": {},
   "outputs": [
    {
     "output_type": "execute_result",
     "data": {
      "text/plain": [
       "27"
      ]
     },
     "metadata": {},
     "execution_count": 24
    }
   ],
   "source": [
    "np.count_nonzero(gdp_16[gdp_16 > 43378.1])"
   ]
  },
  {
   "cell_type": "markdown",
   "metadata": {},
   "source": [
    "### About Data"
   ]
  },
  {
   "cell_type": "markdown",
   "metadata": {},
   "source": [
    "<b> GDP per capita (current US$)</b>\n",
    "\n",
    "GDP per capita is gross domestic product divided by midyear population. GDP is the sum of gross value added by all resident producers in the economy plus any product taxes and minus any subsidies not included in the value of the products. It is calculated without making deductions for depreciation of fabricated assets or for depletion and degradation of natural resources. Data are in current U.S. dollars."
   ]
  }
 ],
 "metadata": {
  "kernelspec": {
   "name": "python391jvsc74a57bd0cc5d2894cf8fed0488a1186a7d9d6ef6896131398eb544c76112bd5bb0e9962d",
   "display_name": "Python 3.9.1 64-bit"
  },
  "language_info": {
   "codemirror_mode": {
    "name": "ipython",
    "version": 3
   },
   "file_extension": ".py",
   "mimetype": "text/x-python",
   "name": "python",
   "nbconvert_exporter": "python",
   "pygments_lexer": "ipython3",
   "version": "3.9.1"
  },
  "metadata": {
   "interpreter": {
    "hash": "cc5d2894cf8fed0488a1186a7d9d6ef6896131398eb544c76112bd5bb0e9962d"
   }
  }
 },
 "nbformat": 4,
 "nbformat_minor": 2
}